{
 "cells": [
  {
   "cell_type": "markdown",
   "metadata": {},
   "source": [
    "# PTT 網路爬蟲實作練習\n",
    "\n",
    "\n",
    "* 能夠利用 Request + BeatifulSour 撰寫爬蟲，並存放到合適的資料結構\n"
   ]
  },
  {
   "cell_type": "markdown",
   "metadata": {},
   "source": [
    "## 作業目標\n",
    "\n",
    "根據範例 ，完成以下問題：\n",
    "\n",
    "* ① 印出最新文章的「作者」「標題」「時間」\n",
    "* ② 印出第一頁所有文章的「作者」「標題」「時間」\n"
   ]
  },
  {
   "cell_type": "markdown",
   "metadata": {},
   "source": [
    "### ① 印出最新文章的「作者」「標題」「時間」"
   ]
  },
  {
   "cell_type": "code",
   "execution_count": 26,
   "metadata": {},
   "outputs": [
    {
     "output_type": "stream",
     "name": "stdout",
     "text": "[花邊] 蔡崇信分享黑人小女孩抗議照 喊讚：所有生\n作者: zaxs ()\n時間:  06/13 00:32\n\n"
    }
   ],
   "source": [
    "import requests\n",
    "from bs4 import BeautifulSoup\n",
    "\n",
    "url = 'https://www.ptt.cc/bbs/NBA/index.html'\n",
    "r = requests.get(url)\n",
    "\n",
    "soup = BeautifulSoup(r.text, \"html5lib\")\n",
    "\n",
    "for d in soup.find_all(class_=\"title\"):\n",
    "    print(d.text.replace('\\t', '').replace('\\n', ''))\n",
    "    r = BeautifulSoup(requests.get('https://www.ptt.cc'+d.find('a')['href']).text, \"html5lib\")\n",
    "    print('作者: ' + r.find(class_='article-meta-value').text)\n",
    "    print('時間: '+ r.find(class_='push-ipdatetime').text)\n",
    "    break\n",
    "    "
   ]
  },
  {
   "cell_type": "markdown",
   "metadata": {},
   "source": [
    "### ② 印出第一頁所有文章的「作者」「標題」「時間」"
   ]
  },
  {
   "cell_type": "code",
   "execution_count": 20,
   "metadata": {},
   "outputs": [
    {
     "output_type": "stream",
     "name": "stdout",
     "text": "[花邊] 蔡崇信分享黑人小女孩抗議照 喊讚：所有生\n作者: zaxs ()\n時間:  06/13 00:32\n\n(本文已被刪除) [xxhuang]\n[情報] KI等多位球星可能不會出席復賽\n作者: Bainite (黑羽毛 ┐(′д`)┌)\n時間: 06/13 10:03\n\n[新聞] NBA迪士尼復賽實施嚴格防疫　工作人員不\n作者: s66449 (老實樣)\n時間:  06/13 10:52\n\n[新聞] 傳Doncic身材走樣 訓練師澄清:翻譯錯誤\n作者: whoAU (你是誰？)\n時間:  06/13 11:24\n\n[情報] LBJ相信可以在復賽同時發揮影響力\n作者: DarthVader (黑武士)\n時間:  06/13 14:26\n\n[情報] Klay Thompson分享Kobe送的自傳 老大留話\n作者: ckny (辛苦的歲月)\n時間:  06/13 14:49\n\n[專欄] 致敬！斯伯丁將發布Kobe全蛇皮限量簽名球\n作者: ckny (辛苦的歲月)\n時間:  06/13 15:05\n\n[花邊] 罷賽對聯盟的經濟影響 預估球員損失12億\n作者: ckny (辛苦的歲月)\n時間:  06/13 15:15\n\n[外絮] 小李新單曲「GOAT Spirit」\n作者: AlanLinKL (AlanKL)\n時間:  06/13 15:35\n\n[討論] 純論進攻 哈登跟KD誰比較強\n作者: ghost069 (阿鬼)\n時間: 06/13 16:58\n\n[花邊] 不讓隊友搶走自己籃板 佐蒙德坦承曾出拐教訓\n作者: thnlkj0665 (灰色地帶)\n時間:  06/13 17:02\n\n[討論] KD主要的成就是不是都來自勇士？\n作者: sunnycello (資深NBA評論家)\n時間:  06/13 18:29\n\n[情報] Irving上週投票支持複賽，一些工會成員因\n作者: bbbyes123 (冬日將至)\n時間:  06/13 21:05\n\n[情報] Trae Young 參加奧克拉荷馬當地的夏季聯盟\n作者: thnlkj0665 (灰色地帶)\n時間:  06/13 21:42\n\n[新聞] 因為這些劃時代球星 籃球規則從此不一樣\n作者: Test (批踢踢系統測試帳號)\n時間:  06/13 23:45\n\n[新聞] 觀《最後之舞》有感 安比德：成為費城的\n作者: Gotham (萬惡之城)\n時間:  06/13 23:56\n\nFw: [公告] 6/22 停機公告\n作者: love1500274 (CoWuCoWu)\n[花邊] 4年前的今天 詹皇歐文均砍下41分帶隊客\n作者: ghost069 (阿鬼)\n時間: 06/14 00:33\n\n[公告] 板規v6.8\n[公告] 版主上任相關事項 \n作者: qazwsx879345 (Rajon Rondo)\n時間:  10/25 10:45\n\n[情報] SEASON Schedule 賽程 March 19–20\n作者: Acetoxy (阿斯)\n時間:  03/02 01:21\n\n[公告] 第一次被退文，可在三天後刪除退文\n作者: Vedan (味丹)\n時間:  03/09 11:45\n\n[公告] 板務說明 (發錢)\n作者: Vedan (味丹)\n時間:  04/03 01:28\n\n"
    }
   ],
   "source": [
    "import requests\n",
    "from bs4 import BeautifulSoup\n",
    "\n",
    "url = 'https://www.ptt.cc/bbs/NBA/index.html'\n",
    "r = requests.get(url)\n",
    "\n",
    "soup = BeautifulSoup(r.text, \"html5lib\")\n",
    "\n",
    "for d in soup.find_all(class_=\"title\"):\n",
    "    print(d.text.replace('\\t', '').replace('\\n', ''))\n",
    "    try:\n",
    "        r = BeautifulSoup(requests.get('https://www.ptt.cc'+d.find('a')['href']).text, \"html5lib\")\n",
    "        print('作者: ' + r.find(class_='article-meta-value').text)\n",
    "        print('時間: '+ r.find(class_='push-ipdatetime').text)\n",
    "   \n",
    "    except:\n",
    "        continue"
   ]
  },
  {
   "cell_type": "markdown",
   "metadata": {},
   "source": [
    "### ③ 試著爬爬看其他版的文章"
   ]
  },
  {
   "cell_type": "code",
   "execution_count": 28,
   "metadata": {},
   "outputs": [
    {
     "output_type": "stream",
     "name": "stdout",
     "text": "Re: [其他] 你身邊有股神嗎?\n作者: DADAOH (招牌飯)\n時間:  06/14 00:54\n\n[其他] 股股雞2歲生日貼圖贈送來啦~\n作者: deternan (Phelps)\n時間:  06/14 00:59\n\n[請益] 醫材概念股\n作者: sjhs73307 (我才癢拉)\n時間:  06/14 01:22\n\nRe: [心得] 個人小小看法\n作者: HenryLin123 (HenryLin123)\n[標的] 富邦Vix\n作者: msis20 (Hi~)\n時間:  06/14 01:26\n\n[公告] 精華區導覽Q&A\n作者: IanLi (IanLi)\n時間:  11/30 23:15\n\n[公告] Stock 板規V2.6             (2019/06/20)\n[公告] 新增板主選舉公報\n作者: eyespot (追求內心的自在)\n時間:  06/08 22:02\n\n[閒聊] 2020/06/12 盤後閒聊\n作者: gn01765288 (PTT金庸)\n時間:  06/12 14:00\n\n"
    }
   ],
   "source": [
    "import requests\n",
    "from bs4 import BeautifulSoup\n",
    "\n",
    "url = 'https://www.ptt.cc/bbs/Stock/index.html'\n",
    "r = requests.get(url)\n",
    "\n",
    "soup = BeautifulSoup(r.text, \"html5lib\")\n",
    "\n",
    "for d in soup.find_all(class_=\"title\"):\n",
    "    print(d.text.replace('\\t', '').replace('\\n', ''))\n",
    "    try:\n",
    "        r = BeautifulSoup(requests.get('https://www.ptt.cc'+d.find('a')['href']).text, \"html5lib\")\n",
    "        print('作者: ' + r.find(class_='article-meta-value').text)\n",
    "        print('時間: '+ r.find(class_='push-ipdatetime').text)\n",
    "   \n",
    "    except:\n",
    "        continue"
   ]
  },
  {
   "cell_type": "code",
   "execution_count": null,
   "metadata": {},
   "outputs": [],
   "source": []
  }
 ],
 "metadata": {
  "kernelspec": {
   "display_name": "Python 3.8.1 32-bit",
   "language": "python",
   "name": "python38132bitba2b45ddaa7d42c3a8078ca35cd647aa"
  },
  "language_info": {
   "codemirror_mode": {
    "name": "ipython",
    "version": 3
   },
   "file_extension": ".py",
   "mimetype": "text/x-python",
   "name": "python",
   "nbconvert_exporter": "python",
   "pygments_lexer": "ipython3",
   "version": "3.8.1-final"
  }
 },
 "nbformat": 4,
 "nbformat_minor": 2
}