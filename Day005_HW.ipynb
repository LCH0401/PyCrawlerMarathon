{
 "cells": [
  {
   "cell_type": "markdown",
   "metadata": {},
   "source": [
    "# API 資料串接 - 以 Dcard API 實作範例\n",
    "\n",
    "* 了解 Dcard API 使用方式與回傳內容\n",
    "* 撰寫程式存取 API 且解析 JSON 格式資料\n"
   ]
  },
  {
   "cell_type": "markdown",
   "metadata": {},
   "source": [
    "## 作業目標\n",
    "\n",
    "* 請利用 API: https://www.dcard.tw/_api/forums/pet/posts?popular=true 回答下列問題：\n",
    "\n",
    "1. 這個 API 一次會回傳幾筆資料？每一筆資料包含哪些欄位？\n",
    "2. 取出每一筆資料的「標題」、「貼文時間」、「留言人數」、「按讚人數」\n",
    "3. 計算熱門/非熱門文章的「平均留言人數」與「平均按讚人數」"
   ]
  },
  {
   "cell_type": "code",
   "execution_count": 8,
   "metadata": {
    "tags": [
     "outputPrepend"
    ]
   },
   "outputs": [
    {
     "output_type": "stream",
     "name": "stdout",
     "text": ":23.294Z', 'updatedAt': '2020-05-28T18:18:23.294Z', 'width': 1500, 'height': 2000}], 'reactions': [{'id': '286f599c-f86a-4932-82f0-f5a06f1eca03', 'count': 6}], 'hidden': False, 'customStyle': None, 'isSuspiciousAccount': False, 'layout': 'classic', 'withImages': False, 'withVideos': False, 'media': [], 'reportReasonText': '', 'postAvatar': ''}, {'id': 233767312, 'title': '看得到吃不到', 'excerpt': '看得到吃不到～正妹上廁所～沒在害羞的～無碼高清～', 'anonymousSchool': False, 'anonymousDepartment': True, 'pinned': False, 'forumId': '7ee21581-1307-4ba9-b9dc-82028bdcca49', 'replyId': None, 'createdAt': '2020-05-28T18:24:11.714Z', 'updatedAt': '2020-05-28T18:24:11.714Z', 'commentCount': 1, 'likeCount': 5, 'withNickname': False, 'tags': ['HIDE_THUMBNAIL'], 'topics': ['貓', '寵物', '可愛'], 'meta': {'layout': 'classic'}, 'forumName': '寵物', 'forumAlias': 'pet', 'nsfw': False, 'gender': 'M', 'school': '健行科技大學', 'replyTitle': None, 'mediaMeta': [{'id': 'bc6fd095-ddd4-4dd2-b7cb-53e3c24b8d5d', 'url': 'https://www.dcard.tw/v2/vivid/videos/b6e282ff-eac5-4e13-8fc9-a05ab4809fc3?r=0.75', 'normalizedUrl': '', 'thumbnail': 'https://vivid.dcard.tw/Public/b6e282ff-eac5-4e13-8fc9-a05ab4809fc3/thumbnail.jpg', 'type': 'video/vivid', 'tags': ['ANNOTATED_FAILED'], 'createdAt': '2020-05-28T18:24:11.714Z', 'updatedAt': '2020-05-28T18:24:11.714Z'}, {'id': 'bc14c86e-3381-4f71-8237-b78e938908e3', 'url': 'https://www.dcard.tw/v2/vivid/videos/68ebbe5d-f449-4e84-9f96-a064d2b0c8bd?r=0.75', 'normalizedUrl': '', 'thumbnail': 'https://vivid.dcard.tw/Public/68ebbe5d-f449-4e84-9f96-a064d2b0c8bd/thumbnail.jpg', 'type': 'video/vivid', 'tags': ['ANNOTATED_FAILED'], 'createdAt': '2020-05-28T18:24:11.714Z', 'updatedAt': '2020-05-28T18:24:11.714Z'}], 'reactions': [{'id': '286f599c-f86a-4932-82f0-f5a06f1eca03', 'count': 5}], 'hidden': False, 'customStyle': None, 'isSuspiciousAccount': False, 'layout': 'classic', 'withImages': True, 'withVideos': True, 'media': [], 'reportReasonText': '', 'postAvatar': ''}, {'id': 233771159, 'title': '有人的貓咪失蹤嗎', 'excerpt': '在捷運菜寮站3號出口，一直在叫！小小隻的很可愛', 'anonymousSchool': False, 'anonymousDepartment': True, 'pinned': False, 'forumId': '7ee21581-1307-4ba9-b9dc-82028bdcca49', 'replyId': None, 'createdAt': '2020-05-29T11:49:00.721Z', 'updatedAt': '2020-05-29T11:49:00.721Z', 'commentCount': 2, 'likeCount': 4, 'withNickname': False, 'tags': [], 'topics': ['貓', '寵物'], 'meta': {'layout': 'classic'}, 'forumName': '寵物', 'forumAlias': 'pet', 'nsfw': False, 'gender': 'F', 'school': '輔仁大學', 'replyTitle': None, 'mediaMeta': [{'id': '58c73cbb-f3a1-4669-9947-c235be0cdc82', 'url': 'https://megapx-assets.dcard.tw/images/01f7ef09-454f-4e21-be15-8adc16e7ce81/160.jpeg', 'normalizedUrl': 'https://megapx-assets.dcard.tw/images/01f7ef09-454f-4e21-be15-8adc16e7ce81/160.jpeg', 'thumbnail': 'https://megapx-assets.dcard.tw/images/01f7ef09-454f-4e21-be15-8adc16e7ce81/160.jpeg', 'type': 'image/thumbnail', 'tags': ['ANNOTATED'], 'createdAt': '2020-05-29T11:49:00.721Z', 'updatedAt': '2020-05-29T11:49:00.721Z', 'width': 120, 'height': 160}, {'id': '58c73cbb-f3a1-4669-9947-c235be0cdc82', 'url': 'https://megapx-assets.dcard.tw/images/01f7ef09-454f-4e21-be15-8adc16e7ce81/640.jpeg', 'normalizedUrl': 'https://megapx.dcard.tw/v1/images/01f7ef09-454f-4e21-be15-8adc16e7ce81', 'thumbnail': 'https://megapx-assets.dcard.tw/images/01f7ef09-454f-4e21-be15-8adc16e7ce81/160.jpeg', 'type': 'image/megapx', 'tags': ['ANNOTATED'], 'createdAt': '2020-05-29T11:49:00.721Z', 'updatedAt': '2020-05-29T11:49:00.721Z', 'width': 1500, 'height': 2000}, {'id': 'd580fd5f-df8e-43a7-a414-86b026699472', 'url': 'https://megapx-assets.dcard.tw/images/894bcfe1-042e-4010-a33d-7099521053c5/640.jpeg', 'normalizedUrl': 'https://megapx.dcard.tw/v1/images/894bcfe1-042e-4010-a33d-7099521053c5', 'thumbnail': 'https://megapx-assets.dcard.tw/images/894bcfe1-042e-4010-a33d-7099521053c5/160.jpeg', 'type': 'image/megapx', 'tags': ['ANNOTATED'], 'createdAt': '2020-05-29T11:49:00.721Z', 'updatedAt': '2020-05-29T11:49:00.721Z', 'width': 1500, 'height': 2000}], 'reactions': [{'id': '286f599c-f86a-4932-82f0-f5a06f1eca03', 'count': 4}], 'hidden': False, 'customStyle': None, 'isSuspiciousAccount': False, 'layout': 'classic', 'withImages': True, 'withVideos': False, 'media': [{'url': 'https://megapx-assets.dcard.tw/images/01f7ef09-454f-4e21-be15-8adc16e7ce81/640.jpeg'}, {'url': 'https://megapx-assets.dcard.tw/images/894bcfe1-042e-4010-a33d-7099521053c5/640.jpeg'}], 'reportReasonText': '', 'postAvatar': ''}, {'id': 233770898, 'title': '白貓複製系列❤️', 'excerpt': '哈嘍我又來分享小仙女們了，希望還有人記得她們，開頭就用最近剛結紮完的頭套照🥰，頭，開飛機️，撈起，等待肉泥，回頭，前陣子很流行的假壁虎，窗邊賞鳥，睡在奴才身上，雙倍的鄙視奴才，握手🤣🤣，擺頭，-', 'anonymousSchool': False, 'anonymousDepartment': False, 'pinned': False, 'forumId': '7ee21581-1307-4ba9-b9dc-82028bdcca49', 'replyId': None, 'createdAt': '2020-05-29T11:04:17.193Z', 'updatedAt': '2020-05-29T11:05:10.112Z', 'commentCount': 0, 'likeCount': 4, 'withNickname': True, 'tags': [], 'topics': ['貓', '白貓', '米克斯', '寵物', 'NScat'], 'meta': {'layout': 'classic'}, 'forumName': '寵物', 'forumAlias': 'pet', 'nsfw': False, 'gender': 'F', 'school': 'NS媽咪🐈', 'department': 'weng517', 'replyTitle': None, 'mediaMeta': [{'id': '93e5c465-7bd3-4f7d-8eed-16fb1def60ba', 'url': 'https://megapx-assets.dcard.tw/images/cc64415f-73f4-46cd-bfa7-dd9ad3708d1e/160.jpeg', 'normalizedUrl': 'https://megapx-assets.dcard.tw/images/cc64415f-73f4-46cd-bfa7-dd9ad3708d1e/160.jpeg', 'thumbnail': 'https://megapx-assets.dcard.tw/images/cc64415f-73f4-46cd-bfa7-dd9ad3708d1e/160.jpeg', 'type': 'image/thumbnail', 'tags': ['ANNOTATED_FAILED'], 'createdAt': '2020-05-29T11:04:17.193Z', 'updatedAt': '2020-05-29T11:05:10.112Z', 'width': 160, 'height': 160}, {'id': '93e5c465-7bd3-4f7d-8eed-16fb1def60ba', 'url': 'https://megapx-assets.dcard.tw/images/cc64415f-73f4-46cd-bfa7-dd9ad3708d1e/640.jpeg', 'normalizedUrl': 'https://megapx.dcard.tw/v1/images/cc64415f-73f4-46cd-bfa7-dd9ad3708d1e', 'thumbnail': 'https://megapx-assets.dcard.tw/images/cc64415f-73f4-46cd-bfa7-dd9ad3708d1e/160.jpeg', 'type': 'image/megapx', 'tags': ['ANNOTATED_FAILED'], 'createdAt': '2020-05-29T11:04:17.193Z', 'updatedAt': '2020-05-29T11:05:10.112Z', 'width': 2000, 'height': 2000}, {'id': '16e55efe-2783-49d2-a6d6-c426ec506e21', 'url': 'https://megapx-assets.dcard.tw/images/c1bf1919-45d2-4771-800f-a19b7f7aeb5d/640.jpeg', 'normalizedUrl': 'https://megapx.dcard.tw/v1/images/c1bf1919-45d2-4771-800f-a19b7f7aeb5d', 'thumbnail': 'https://megapx-assets.dcard.tw/images/c1bf1919-45d2-4771-800f-a19b7f7aeb5d/160.jpeg', 'type': 'image/megapx', 'tags': ['ANNOTATED_FAILED'], 'createdAt': '2020-05-29T11:04:17.193Z', 'updatedAt': '2020-05-29T11:05:10.112Z', 'width': 1440, 'height': 1440}, {'id': '3c80d6cf-1802-4726-98a8-1abc9ceff14a', 'url': 'https://megapx-assets.dcard.tw/images/2a9bfbc7-bc0d-4b21-bd78-343b08c24fbc/640.jpeg', 'normalizedUrl': 'https://megapx.dcard.tw/v1/images/2a9bfbc7-bc0d-4b21-bd78-343b08c24fbc', 'thumbnail': 'https://megapx-assets.dcard.tw/images/2a9bfbc7-bc0d-4b21-bd78-343b08c24fbc/160.jpeg', 'type': 'image/megapx', 'tags': ['ANNOTATED_FAILED'], 'createdAt': '2020-05-29T11:04:17.193Z', 'updatedAt': '2020-05-29T11:05:10.112Z', 'width': 2000, 'height': 2000}, {'id': '5c5894b9-e4cb-43f4-831f-024c73d038c0', 'url': 'https://megapx-assets.dcard.tw/images/b8748bc6-097f-49ba-9922-a4c41591c07a/640.jpeg', 'normalizedUrl': 'https://megapx.dcard.tw/v1/images/b8748bc6-097f-49ba-9922-a4c41591c07a', 'thumbnail': 'https://megapx-assets.dcard.tw/images/b8748bc6-097f-49ba-9922-a4c41591c07a/160.jpeg', 'type': 'image/megapx', 'tags': ['ANNOTATED_FAILED'], 'createdAt': '2020-05-29T11:04:17.193Z', 'updatedAt': '2020-05-29T11:05:10.112Z', 'width': 1440, 'height': 1440}, {'id': '89b66608-b2f7-4d6f-83f6-9d1930551500', 'url': 'https://megapx-assets.dcard.tw/images/20f86ea0-0893-4d42-986a-ef7fdc247f32/640.jpeg', 'normalizedUrl': 'https://megapx.dcard.tw/v1/images/20f86ea0-0893-4d42-986a-ef7fdc247f32', 'thumbnail': 'https://megapx-assets.dcard.tw/images/20f86ea0-0893-4d42-986a-ef7fdc247f32/160.jpeg', 'type': 'image/megapx', 'tags': ['ANNOTATED'], 'createdAt': '2020-05-29T11:04:17.193Z', 'updatedAt': '2020-05-29T11:05:10.112Z', 'width': 2000, 'height': 2000}, {'id': '356cd74b-4533-4fad-9d6c-655b2b62ce00', 'url': 'https://megapx-assets.dcard.tw/images/e0b74060-d2fc-4d13-b7b6-a30e3c47a7fb/640.jpeg', 'normalizedUrl': 'https://megapx.dcard.tw/v1/images/e0b74060-d2fc-4d13-b7b6-a30e3c47a7fb', 'thumbnail': 'https://megapx-assets.dcard.tw/images/e0b74060-d2fc-4d13-b7b6-a30e3c47a7fb/160.jpeg', 'type': 'image/megapx', 'tags': ['ANNOTATED_FAILED'], 'createdAt': '2020-05-29T11:04:17.193Z', 'updatedAt': '2020-05-29T11:05:10.112Z', 'width': 1095, 'height': 1095}, {'id': '1ec23403-824e-417c-aef5-4fe8c44621ef', 'url': 'https://megapx-assets.dcard.tw/images/3645b6c9-a160-463e-a945-2107a525c4b6/640.jpeg', 'normalizedUrl': 'https://megapx.dcard.tw/v1/images/3645b6c9-a160-463e-a945-2107a525c4b6', 'thumbnail': 'https://megapx-assets.dcard.tw/images/3645b6c9-a160-463e-a945-2107a525c4b6/160.jpeg', 'type': 'image/megapx', 'tags': ['ANNOTATED'], 'createdAt': '2020-05-29T11:04:17.193Z', 'updatedAt': '2020-05-29T11:05:10.112Z', 'width': 1067, 'height': 1067}, {'id': '28bb6733-025d-4646-adf5-75ae5eb460a2', 'url': 'https://megapx-assets.dcard.tw/images/599bf48e-e40a-44dc-8a9a-ee099d33979e/640.jpeg', 'normalizedUrl': 'https://megapx.dcard.tw/v1/images/599bf48e-e40a-44dc-8a9a-ee099d33979e', 'thumbnail': 'https://megapx-assets.dcard.tw/images/599bf48e-e40a-44dc-8a9a-ee099d33979e/160.jpeg', 'type': 'image/megapx', 'tags': ['ANNOTATED'], 'createdAt': '2020-05-29T11:04:17.193Z', 'updatedAt': '2020-05-29T11:05:10.112Z', 'width': 1242, 'height': 1242}, {'id': '11b83dc0-2570-41dd-9f3d-6c7c55f9d93a', 'url': 'https://megapx-assets.dcard.tw/images/0e23b030-ff9f-4c1c-a33c-a1b90c60e2f5/640.jpeg', 'normalizedUrl': 'https://megapx.dcard.tw/v1/images/0e23b030-ff9f-4c1c-a33c-a1b90c60e2f5', 'thumbnail': 'https://megapx-assets.dcard.tw/images/0e23b030-ff9f-4c1c-a33c-a1b90c60e2f5/160.jpeg', 'type': 'image/megapx', 'tags': ['ANNOTATED_FAILED'], 'createdAt': '2020-05-29T11:04:17.193Z', 'updatedAt': '2020-05-29T11:05:10.112Z', 'width': 1440, 'height': 1440}, {'id': '90ba7804-97a2-4a8c-9606-ad0ad76ab699', 'url': 'https://megapx-assets.dcard.tw/images/00e19d04-b2d7-46d3-841f-bfd9c14722db/640.jpeg', 'normalizedUrl': 'https://megapx.dcard.tw/v1/images/00e19d04-b2d7-46d3-841f-bfd9c14722db', 'thumbnail': 'https://megapx-assets.dcard.tw/images/00e19d04-b2d7-46d3-841f-bfd9c14722db/160.jpeg', 'type': 'image/megapx', 'tags': ['ANNOTATED_FAILED'], 'createdAt': '2020-05-29T11:04:17.193Z', 'updatedAt': '2020-05-29T11:05:10.112Z', 'width': 1872, 'height': 1872}, {'id': 'c4108179-4638-4671-82e6-0ec916f00fb8', 'url': 'https://megapx-assets.dcard.tw/images/a69c1986-08e9-49ae-bf83-464a8bbbebe1/640.jpeg', 'normalizedUrl': 'https://megapx.dcard.tw/v1/images/a69c1986-08e9-49ae-bf83-464a8bbbebe1', 'thumbnail': 'https://megapx-assets.dcard.tw/images/a69c1986-08e9-49ae-bf83-464a8bbbebe1/160.jpeg', 'type': 'image/megapx', 'tags': ['ANNOTATED_FAILED'], 'createdAt': '2020-05-29T11:04:17.193Z', 'updatedAt': '2020-05-29T11:05:10.112Z', 'width': 1582, 'height': 1582}, {'id': '5d0e43f3-5182-4a23-86e6-fe786b2cc5db', 'url': 'https://www.dcard.tw/v2/vivid/videos/82e5c732-c1bf-4d29-b9f2-73772a330ab5?r=1.2403100775193798', 'normalizedUrl': '', 'thumbnail': 'https://vivid.dcard.tw/Public/82e5c732-c1bf-4d29-b9f2-73772a330ab5/thumbnail.jpg', 'type': 'video/vivid', 'tags': ['ANNOTATED_FAILED'], 'createdAt': '2020-05-29T11:04:17.193Z', 'updatedAt': '2020-05-29T11:05:10.112Z'}, {'id': '52e440a9-a1e1-48ec-aadd-f6aa070b04c1', 'url': 'https://www.dcard.tw/v2/vivid/videos/8f235281-c712-48d8-a44e-087e29630501?r=1.7777777777777777', 'normalizedUrl': '', 'thumbnail': 'https://vivid.dcard.tw/Public/8f235281-c712-48d8-a44e-087e29630501/thumbnail.jpg', 'type': 'video/vivid', 'tags': ['ANNOTATED_FAILED'], 'createdAt': '2020-05-29T11:04:17.193Z', 'updatedAt': '2020-05-29T11:05:10.112Z'}, {'id': 'e064330a-d67c-4a4c-b697-e40bf74ca0c2', 'url': 'https://megapx-assets.dcard.tw/images/46617070-f842-4399-bc4e-28342bbf8c50/640.jpeg', 'normalizedUrl': 'https://megapx.dcard.tw/v1/images/46617070-f842-4399-bc4e-28342bbf8c50', 'thumbnail': 'https://megapx-assets.dcard.tw/images/46617070-f842-4399-bc4e-28342bbf8c50/160.jpeg', 'type': 'image/megapx', 'tags': ['ANNOTATED_FAILED'], 'createdAt': '2020-05-29T11:04:17.193Z', 'updatedAt': '2020-05-29T11:05:10.112Z', 'width': 1142, 'height': 1142}, {'id': '5bed3beb-7b37-48d4-8c8f-8ea7319165c9', 'url': 'https://megapx-assets.dcard.tw/images/dd675fdb-4cb3-4ee7-bfaa-2739575534a2/640.jpeg', 'normalizedUrl': 'https://megapx.dcard.tw/v1/images/dd675fdb-4cb3-4ee7-bfaa-2739575534a2', 'thumbnail': 'https://megapx-assets.dcard.tw/images/dd675fdb-4cb3-4ee7-bfaa-2739575534a2/160.jpeg', 'type': 'image/megapx', 'tags': ['ANNOTATED_FAILED'], 'createdAt': '2020-05-29T11:04:17.193Z', 'updatedAt': '2020-05-29T11:05:10.112Z', 'width': 1145, 'height': 1145}, {'id': '7f455593-df85-495e-962c-b3303e5a8c33', 'url': 'https://megapx-assets.dcard.tw/images/3434f554-ccca-448b-ad51-be7693f7a8d9/640.jpeg', 'normalizedUrl': 'https://megapx.dcard.tw/v1/images/3434f554-ccca-448b-ad51-be7693f7a8d9', 'thumbnail': 'https://megapx-assets.dcard.tw/images/3434f554-ccca-448b-ad51-be7693f7a8d9/160.jpeg', 'type': 'image/megapx', 'tags': ['ANNOTATED_FAILED'], 'createdAt': '2020-05-29T11:04:17.193Z', 'updatedAt': '2020-05-29T11:05:10.112Z', 'width': 1242, 'height': 1334}], 'reactions': [{'id': '286f599c-f86a-4932-82f0-f5a06f1eca03', 'count': 4}], 'hidden': False, 'customStyle': None, 'isSuspiciousAccount': False, 'layout': 'classic', 'withImages': True, 'withVideos': True, 'media': [{'url': 'https://megapx-assets.dcard.tw/images/cc64415f-73f4-46cd-bfa7-dd9ad3708d1e/640.jpeg'}, {'url': 'https://megapx-assets.dcard.tw/images/c1bf1919-45d2-4771-800f-a19b7f7aeb5d/640.jpeg'}, {'url': 'https://megapx-assets.dcard.tw/images/2a9bfbc7-bc0d-4b21-bd78-343b08c24fbc/640.jpeg'}, {'url': 'https://megapx-assets.dcard.tw/images/b8748bc6-097f-49ba-9922-a4c41591c07a/640.jpeg'}, {'url': 'https://megapx-assets.dcard.tw/images/20f86ea0-0893-4d42-986a-ef7fdc247f32/640.jpeg'}, {'url': 'https://megapx-assets.dcard.tw/images/e0b74060-d2fc-4d13-b7b6-a30e3c47a7fb/640.jpeg'}, {'url': 'https://megapx-assets.dcard.tw/images/3645b6c9-a160-463e-a945-2107a525c4b6/640.jpeg'}, {'url': 'https://megapx-assets.dcard.tw/images/599bf48e-e40a-44dc-8a9a-ee099d33979e/640.jpeg'}, {'url': 'https://megapx-assets.dcard.tw/images/0e23b030-ff9f-4c1c-a33c-a1b90c60e2f5/640.jpeg'}, {'url': 'https://megapx-assets.dcard.tw/images/00e19d04-b2d7-46d3-841f-bfd9c14722db/640.jpeg'}, {'url': 'https://megapx-assets.dcard.tw/images/a69c1986-08e9-49ae-bf83-464a8bbbebe1/640.jpeg'}, {'url': 'https://vivid.dcard.tw/Public/82e5c732-c1bf-4d29-b9f2-73772a330ab5/thumbnail.jpg'}, {'url': 'https://vivid.dcard.tw/Public/8f235281-c712-48d8-a44e-087e29630501/thumbnail.jpg'}, {'url': 'https://megapx-assets.dcard.tw/images/46617070-f842-4399-bc4e-28342bbf8c50/640.jpeg'}, {'url': 'https://megapx-assets.dcard.tw/images/dd675fdb-4cb3-4ee7-bfaa-2739575534a2/640.jpeg'}, {'url': 'https://megapx-assets.dcard.tw/images/3434f554-ccca-448b-ad51-be7693f7a8d9/640.jpeg'}], 'reportReasonText': '', 'postAvatar': ''}, {'id': 233770695, 'title': '通緝貓貓！！', 'excerpt': '辣個！，你的貓咪豪口愛！！！，可不可以多發一點><', 'anonymousSchool': False, 'anonymousDepartment': False, 'pinned': False, 'forumId': '7ee21581-1307-4ba9-b9dc-82028bdcca49', 'replyId': None, 'createdAt': '2020-05-29T10:27:45.848Z', 'updatedAt': '2020-05-29T10:27:45.848Z', 'commentCount': 0, 'likeCount': 3, 'withNickname': True, 'tags': [], 'topics': [], 'meta': {'layout': 'classic'}, 'forumName': '寵物', 'forumAlias': 'pet', 'nsfw': False, 'gender': 'F', 'school': '會計小萌寵', 'department': 'jessieeeee1999', 'replyTitle': None, 'mediaMeta': [{'id': 'c5baa802-0d41-4f33-9848-c63a105c32ec', 'url': 'https://megapx-assets.dcard.tw/images/9c6dbd4d-937b-463c-a0e0-f44fa0cf6abd/160.jpeg', 'normalizedUrl': 'https://megapx-assets.dcard.tw/images/9c6dbd4d-937b-463c-a0e0-f44fa0cf6abd/160.jpeg', 'thumbnail': 'https://megapx-assets.dcard.tw/images/9c6dbd4d-937b-463c-a0e0-f44fa0cf6abd/160.jpeg', 'type': 'image/thumbnail', 'tags': ['ANNOTATED'], 'createdAt': '2020-05-29T10:27:45.848Z', 'updatedAt': '2020-05-29T10:27:45.848Z', 'width': 90, 'height': 160}, {'id': 'c5baa802-0d41-4f33-9848-c63a105c32ec', 'url': 'https://megapx-assets.dcard.tw/images/9c6dbd4d-937b-463c-a0e0-f44fa0cf6abd/640.jpeg', 'normalizedUrl': 'https://megapx.dcard.tw/v1/images/9c6dbd4d-937b-463c-a0e0-f44fa0cf6abd', 'thumbnail': 'https://megapx-assets.dcard.tw/images/9c6dbd4d-937b-463c-a0e0-f44fa0cf6abd/160.jpeg', 'type': 'image/megapx', 'tags': ['ANNOTATED'], 'createdAt': '2020-05-29T10:27:45.848Z', 'updatedAt': '2020-05-29T10:27:45.848Z', 'width': 750, 'height': 1334}], 'reactions': [{'id': '286f599c-f86a-4932-82f0-f5a06f1eca03', 'count': 3}], 'hidden': False, 'customStyle': None, 'isSuspiciousAccount': False, 'layout': 'classic', 'withImages': True, 'withVideos': False, 'media': [{'url': 'https://megapx-assets.dcard.tw/images/9c6dbd4d-937b-463c-a0e0-f44fa0cf6abd/640.jpeg'}], 'reportReasonText': '', 'postAvatar': ''}, {'id': 233767437, 'title': '求救，兩隻貓不認識了', 'excerpt': '前天搬家，兩隻貓來到新地方，一開始還好好的，晃來晃去，還躺在附近地板休息，一隻公3歲半左右  白橘米克斯，一隻母快2歲  灰色英短，英短從小就跟米克斯一起長大，一起發瘋 一起玩，繼續正文....，突然', 'anonymousSchool': False, 'anonymousDepartment': True, 'pinned': False, 'forumId': '7ee21581-1307-4ba9-b9dc-82028bdcca49', 'replyId': None, 'createdAt': '2020-05-28T19:14:49.880Z', 'updatedAt': '2020-05-28T19:14:49.880Z', 'commentCount': 6, 'likeCount': 3, 'withNickname': False, 'tags': ['HIDE_THUMBNAIL'], 'topics': ['貓', '救命', '領養代替購買'], 'meta': {'layout': 'classic'}, 'forumName': '寵物', 'forumAlias': 'pet', 'nsfw': False, 'gender': 'M', 'school': '國立勤益科技大學', 'replyTitle': None, 'mediaMeta': [], 'reactions': [{'id': '286f599c-f86a-4932-82f0-f5a06f1eca03', 'count': 3}], 'hidden': False, 'customStyle': None, 'isSuspiciousAccount': False, 'layout': 'classic', 'withImages': False, 'withVideos': False, 'media': [], 'reportReasonText': '', 'postAvatar': ''}, {'id': 233766375, 'title': '毛小孩零嘴小調查🐈🐶❤️', 'excerpt': '麻煩各位哥哥姐姐弟弟妹妹們🤪🤪，幫我填個問卷謝謝，附上可愛小寶貝🥰🥰🥰', 'anonymousSchool': False, 'anonymousDepartment': True, 'pinned': False, 'forumId': '7ee21581-1307-4ba9-b9dc-82028bdcca49', 'replyId': None, 'createdAt': '2020-05-28T15:42:47.298Z', 'updatedAt': '2020-05-28T15:42:47.298Z', 'commentCount': 1, 'likeCount': 3, 'withNickname': False, 'tags': [], 'topics': ['貓', '狗', '寵物', '可愛', '零食'], 'meta': {'layout': 'classic'}, 'forumName': '寵物', 'forumAlias': 'pet', 'nsfw': False, 'gender': 'F', 'school': '弘光科技大學', 'replyTitle': None, 'mediaMeta': [{'id': '5ff01904-644f-45ac-ab55-0affae0d0d45', 'url': 'https://megapx-assets.dcard.tw/images/092bb95b-eb07-43c4-89a4-8a988beaf3b2/160.jpeg', 'normalizedUrl': 'https://megapx-assets.dcard.tw/images/092bb95b-eb07-43c4-89a4-8a988beaf3b2/160.jpeg', 'thumbnail': 'https://megapx-assets.dcard.tw/images/092bb95b-eb07-43c4-89a4-8a988beaf3b2/160.jpeg', 'type': 'image/thumbnail', 'tags': ['ANNOTATED'], 'createdAt': '2020-05-28T15:42:47.298Z', 'updatedAt': '2020-05-28T15:42:47.298Z', 'width': 107, 'height': 160}, {'id': '5ff01904-644f-45ac-ab55-0affae0d0d45', 'url': 'https://megapx-assets.dcard.tw/images/092bb95b-eb07-43c4-89a4-8a988beaf3b2/640.jpeg', 'normalizedUrl': 'https://megapx.dcard.tw/v1/images/092bb95b-eb07-43c4-89a4-8a988beaf3b2', 'thumbnail': 'https://megapx-assets.dcard.tw/images/092bb95b-eb07-43c4-89a4-8a988beaf3b2/160.jpeg', 'type': 'image/megapx', 'tags': ['ANNOTATED'], 'createdAt': '2020-05-28T15:42:47.298Z', 'updatedAt': '2020-05-28T15:42:47.298Z', 'width': 1000, 'height': 1500}], 'reactions': [{'id': '286f599c-f86a-4932-82f0-f5a06f1eca03', 'count': 3}], 'hidden': False, 'customStyle': None, 'isSuspiciousAccount': False, 'layout': 'classic', 'withImages': True, 'withVideos': False, 'media': [{'url': 'https://megapx-assets.dcard.tw/images/092bb95b-eb07-43c4-89a4-8a988beaf3b2/640.jpeg'}], 'reportReasonText': '', 'postAvatar': ''}]\n"
    }
   ],
   "source": [
    "# 1. 這個 API 一次會回傳幾筆資料？每一筆資料包含哪些欄位？\n",
    "import requests\n",
    "import json\n",
    "r = requests.get('https://www.dcard.tw/_api/forums/pet/posts?popular=true')\n",
    "respone = json.loads(r.text)\n",
    "print(respone)\n"
   ]
  },
  {
   "cell_type": "code",
   "execution_count": 12,
   "metadata": {},
   "outputs": [
    {
     "output_type": "error",
     "ename": "TypeError",
     "evalue": "string indices must be integers",
     "traceback": [
      "\u001b[1;31m---------------------------------------------------------------------------\u001b[0m",
      "\u001b[1;31mTypeError\u001b[0m                                 Traceback (most recent call last)",
      "\u001b[1;32m<ipython-input-12-495684c5537e>\u001b[0m in \u001b[0;36m<module>\u001b[1;34m\u001b[0m\n\u001b[0;32m      6\u001b[0m \u001b[0mdata\u001b[0m \u001b[1;33m=\u001b[0m \u001b[0mjson\u001b[0m\u001b[1;33m.\u001b[0m\u001b[0mloads\u001b[0m\u001b[1;33m(\u001b[0m\u001b[0mr\u001b[0m\u001b[1;33m.\u001b[0m\u001b[0mtext\u001b[0m\u001b[1;33m)\u001b[0m\u001b[1;33m\u001b[0m\u001b[1;33m\u001b[0m\u001b[0m\n\u001b[0;32m      7\u001b[0m \u001b[1;32mfor\u001b[0m \u001b[0md\u001b[0m \u001b[1;32min\u001b[0m \u001b[0mdata\u001b[0m\u001b[1;33m:\u001b[0m\u001b[1;33m\u001b[0m\u001b[1;33m\u001b[0m\u001b[0m\n\u001b[1;32m----> 8\u001b[1;33m     \u001b[0mprint\u001b[0m\u001b[1;33m(\u001b[0m\u001b[0md\u001b[0m\u001b[1;33m[\u001b[0m\u001b[1;34m'title'\u001b[0m\u001b[1;33m]\u001b[0m\u001b[1;33m,\u001b[0m \u001b[0md\u001b[0m\u001b[1;33m[\u001b[0m\u001b[1;34m'createdAt'\u001b[0m\u001b[1;33m]\u001b[0m\u001b[1;33m,\u001b[0m\u001b[0md\u001b[0m\u001b[1;33m[\u001b[0m\u001b[1;34m'commentCount'\u001b[0m\u001b[1;33m]\u001b[0m\u001b[1;33m,\u001b[0m \u001b[0md\u001b[0m\u001b[1;33m[\u001b[0m\u001b[1;34m'likeCount'\u001b[0m\u001b[1;33m]\u001b[0m\u001b[1;33m)\u001b[0m\u001b[1;33m\u001b[0m\u001b[1;33m\u001b[0m\u001b[0m\n\u001b[0m",
      "\u001b[1;31mTypeError\u001b[0m: string indices must be integers"
     ]
    }
   ],
   "source": [
    "# 2. 取出每一筆資料的「標題」、「貼文時間」、「留言人數」、「按讚人數」\n",
    "\n",
    "import requests\n",
    "import json\n",
    "r= requests.get('https://www.dcard.tw/_api/forums/pet/posts?popular=true ')\n",
    "data = json.loads(r.text)\n",
    "for d in data:\n",
    "    print(d['title'], d['createdAt'],d['commentCount'], d['likeCount'])"
   ]
  },
  {
   "cell_type": "code",
   "execution_count": 3,
   "metadata": {},
   "outputs": [
    {
     "data": {
      "text/plain": [
       "'\\nYour Code\\n'"
      ]
     },
     "execution_count": 3,
     "metadata": {},
     "output_type": "execute_result"
    }
   ],
   "source": [
    "# 3. 計算熱門/非熱門文章的「平均留言人數」與「平均按讚人數」\n",
    "\n",
    "'''\n",
    "Your Code\n",
    "'''"
   ]
  },
  {
   "cell_type": "code",
   "execution_count": null,
   "metadata": {},
   "outputs": [],
   "source": []
  },
  {
   "cell_type": "code",
   "execution_count": null,
   "metadata": {},
   "outputs": [],
   "source": []
  }
 ],
 "metadata": {
  "kernelspec": {
   "display_name": "Python 3.8.1 32-bit",
   "language": "python",
   "name": "python38132bitba2b45ddaa7d42c3a8078ca35cd647aa"
  },
  "language_info": {
   "codemirror_mode": {
    "name": "ipython",
    "version": 3
   },
   "file_extension": ".py",
   "mimetype": "text/x-python",
   "name": "python",
   "nbconvert_exporter": "python",
   "pygments_lexer": "ipython3",
   "version": "3.8.1-final"
  }
 },
 "nbformat": 4,
 "nbformat_minor": 2
}