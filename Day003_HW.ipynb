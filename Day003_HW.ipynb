{
 "cells": [
  {
   "cell_type": "markdown",
   "metadata": {},
   "source": [
    "# Python 下載XML檔案與解析\n",
    "\n",
    "\n",
    "* 了解 xml 檔案格式與內容\n",
    "* 能夠利用套件存取 xml 格式的檔案\n"
   ]
  },
  {
   "cell_type": "markdown",
   "metadata": {},
   "source": [
    "## 作業目標\n",
    "\n",
    "* 比較一下範例檔案中的「File I/O」與「xmltodict」讀出來的內容有什麼差異\n",
    "\n",
    "* 根據範例檔案的結果：\n",
    "    1. 請問高雄市有多少地區有溫度資料？\n",
    "    2. 請取出每一個地區所記錄的第一個時間點跟溫度\n",
    "    3. 請取出第一個地區所記錄的每一個時間點跟溫度"
   ]
  },
  {
   "cell_type": "markdown",
   "metadata": {},
   "source": [
    "### 比較一下範例檔案中的「File I/O」與「xmltodict」讀出來的內容有什麼差異\n"
   ]
  },
  {
   "cell_type": "code",
   "execution_count": null,
   "metadata": {},
   "outputs": [],
   "source": [
    "Xmltodict 將xml轉換成dict，可以使用dict方式操作"
   ]
  },
  {
   "cell_type": "markdown",
   "metadata": {},
   "source": [
    "### 根據範例檔案的結果：\n",
    "\n",
    "1. 請問高雄市有多少地區有溫度資料？\n",
    "2. 請取出每一個地區所記錄的第一個時間點跟溫度\n",
    "3. 請取出第一個地區所記錄的每一個時間點跟溫度"
   ]
  },
  {
   "cell_type": "code",
   "execution_count": null,
   "metadata": {},
   "outputs": [],
   "source": []
  },
  {
   "cell_type": "code",
   "execution_count": 114,
   "metadata": {
    "tags": [
     "outputPrepend"
    ]
   },
   "outputs": [
    {
     "output_type": "stream",
     "name": "stdout",
     "text": "38\n"
    }
   ],
   "source": [
    "# 1. 請問高雄市有多少地區有溫度資料？\n",
    "import xmltodict\n",
    "\n",
    "with open('./D3/64_Week24_CH.xml', encoding= 'UTF-8') as sam:\n",
    "    doc = dict(xmltodict.parse(sam.read()))\n",
    "    \n",
    "    print(len(doc['cwbopendata']['dataset']['locations']['location']))\n",
    "        \n",
    "        \n",
    "\n"
   ]
  },
  {
   "cell_type": "code",
   "execution_count": 54,
   "metadata": {
    "tags": [
     "outputPrepend"
    ]
   },
   "outputs": [
    {
     "output_type": "stream",
     "name": "stdout",
     "text": "鹽埕區 2019-06-28T12:00:00+08:00 33\n鼓山區 2019-06-28T12:00:00+08:00 33\n左營區 2019-06-28T12:00:00+08:00 33\n楠梓區 2019-06-28T12:00:00+08:00 34\n三民區 2019-06-28T12:00:00+08:00 32\n新興區 2019-06-28T12:00:00+08:00 33\n前金區 2019-06-28T12:00:00+08:00 33\n苓雅區 2019-06-28T12:00:00+08:00 33\n前鎮區 2019-06-28T12:00:00+08:00 33\n旗津區 2019-06-28T12:00:00+08:00 32\n小港區 2019-06-28T12:00:00+08:00 33\n鳳山區 2019-06-28T12:00:00+08:00 34\n林園區 2019-06-28T12:00:00+08:00 33\n大寮區 2019-06-28T12:00:00+08:00 34\n大樹區 2019-06-28T12:00:00+08:00 34\n大社區 2019-06-28T12:00:00+08:00 34\n仁武區 2019-06-28T12:00:00+08:00 33\n鳥松區 2019-06-28T12:00:00+08:00 34\n岡山區 2019-06-28T12:00:00+08:00 34\n橋頭區 2019-06-28T12:00:00+08:00 35\n燕巢區 2019-06-28T12:00:00+08:00 34\n田寮區 2019-06-28T12:00:00+08:00 34\n阿蓮區 2019-06-28T12:00:00+08:00 34\n路竹區 2019-06-28T12:00:00+08:00 33\n湖內區 2019-06-28T12:00:00+08:00 33\n茄萣區 2019-06-28T12:00:00+08:00 33\n永安區 2019-06-28T12:00:00+08:00 32\n彌陀區 2019-06-28T12:00:00+08:00 32\n梓官區 2019-06-28T12:00:00+08:00 32\n旗山區 2019-06-28T12:00:00+08:00 34\n美濃區 2019-06-28T12:00:00+08:00 34\n六龜區 2019-06-28T12:00:00+08:00 34\n甲仙區 2019-06-28T12:00:00+08:00 33\n杉林區 2019-06-28T12:00:00+08:00 36\n內門區 2019-06-28T12:00:00+08:00 34\n茂林區 2019-06-28T12:00:00+08:00 34\n桃源區 2019-06-28T12:00:00+08:00 31\n那瑪夏區 2019-06-28T12:00:00+08:00 29\n"
    }
   ],
   "source": [
    "# 2. 請取出每一個地區所記錄的第一個時間點跟溫度\n",
    "\n",
    "import xmltodict\n",
    "with open('./D3/64_72hr_CH.xml', encoding='UTF-8')as k:\n",
    "    k = dict(xmltodict.parse(k.read()))\n",
    "    ktt=k['cwbopendata']['dataset']['locations']['location']\n",
    "    for lo in ktt:\n",
    "        l=lo['locationName']\n",
    "        for j in lo['weatherElement']:\n",
    "            if j['description'] == '溫度':\n",
    "                print(l, j['time'][0]['dataTime'], j['time'][0]['elementValue']['value'])\n",
    "        "
   ]
  },
  {
   "cell_type": "code",
   "execution_count": 81,
   "metadata": {
    "tags": [
     "outputPrepend"
    ]
   },
   "outputs": [
    {
     "output_type": "stream",
     "name": "stdout",
     "text": "鹽埕區 2019-06-28T12:00:00+08:00 33\n鹽埕區 2019-06-28T15:00:00+08:00 33\n鹽埕區 2019-06-28T18:00:00+08:00 32\n鹽埕區 2019-06-28T21:00:00+08:00 30\n鹽埕區 2019-06-29T00:00:00+08:00 30\n鹽埕區 2019-06-29T03:00:00+08:00 29\n鹽埕區 2019-06-29T06:00:00+08:00 28\n鹽埕區 2019-06-29T09:00:00+08:00 31\n鹽埕區 2019-06-29T12:00:00+08:00 32\n鹽埕區 2019-06-29T15:00:00+08:00 32\n鹽埕區 2019-06-29T18:00:00+08:00 31\n鹽埕區 2019-06-29T21:00:00+08:00 30\n鹽埕區 2019-06-30T00:00:00+08:00 29\n鹽埕區 2019-06-30T03:00:00+08:00 28\n鹽埕區 2019-06-30T06:00:00+08:00 28\n鹽埕區 2019-06-30T09:00:00+08:00 31\n鹽埕區 2019-06-30T12:00:00+08:00 32\n鹽埕區 2019-06-30T15:00:00+08:00 32\n鹽埕區 2019-06-30T18:00:00+08:00 31\n鹽埕區 2019-06-30T21:00:00+08:00 30\n鹽埕區 2019-07-01T00:00:00+08:00 29\n鹽埕區 2019-07-01T03:00:00+08:00 29\n鹽埕區 2019-07-01T06:00:00+08:00 28\n鹽埕區 2019-07-01T09:00:00+08:00 31\n"
    }
   ],
   "source": [
    "# 3. 請取出第一個地區所記錄的每一個時間點跟溫度\n",
    "import xmltodict\n",
    "with open('./D3/64_72hr_CH.xml', encoding='UTF-8') as a:\n",
    "    a=dict(xmltodict.parse(a.read()))\n",
    "    first=a['cwbopendata']['dataset']['locations']['location'][0]['locationName']\n",
    "    t=a['cwbopendata']['dataset']['locations']['location'][0]['weatherElement'][0]['time']\n",
    "    \n",
    "    for ti in t:\n",
    "            print(first,ti['dataTime'], ti['elementValue']['value'])\n"
   ]
  },
  {
   "cell_type": "code",
   "execution_count": null,
   "metadata": {},
   "outputs": [],
   "source": []
  }
 ],
 "metadata": {
  "kernelspec": {
   "display_name": "Python 3.8.1 32-bit",
   "language": "python",
   "name": "python38132bitba2b45ddaa7d42c3a8078ca35cd647aa"
  },
  "language_info": {
   "codemirror_mode": {
    "name": "ipython",
    "version": 3
   },
   "file_extension": ".py",
   "mimetype": "text/x-python",
   "name": "python",
   "nbconvert_exporter": "python",
   "pygments_lexer": "ipython3",
   "version": "3.8.1-final"
  }
 },
 "nbformat": 4,
 "nbformat_minor": 2
}